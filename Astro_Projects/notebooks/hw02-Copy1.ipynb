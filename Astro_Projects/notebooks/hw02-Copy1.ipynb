{
 "cells": [
  {
   "cell_type": "markdown",
   "id": "ae8228e4",
   "metadata": {
    "id": "1HRBtoZW0iym"
   },
   "source": [
    "<center>\n",
    "\n",
    "## <font color='blue'>ASTR 21100</font>\n",
    "<center>\n",
    "\n",
    "### <font color='blue'>\"Computational Techniques in Astrophysics\"</font>\n",
    "    \n",
    "<center>\n",
    "    \n",
    "### <font color='blue'>Computing distances to distant galaxies, quasars, and supernovae</font>\n",
    "\n",
    "<center>\n",
    "    \n",
    "### <font color='blue'> 30 points (+ 5 possible extra-credit points)</font>\n",
    "    \n",
    "    \n",
    "<center>\n",
    "\n",
    "### <font color='blue'> Due Thursday,  Jan 23, 10pm</font>\n",
    "\n"
   ]
  },
  {
   "cell_type": "markdown",
   "id": "0c2f155a",
   "metadata": {},
   "source": [
    "### Introduction\n",
    "\n",
    "You probably heard that our Universe expands. We know this because we see that almost all galaxies and quasars are moving away from us - the motion that is reflected in the spectral shift of the lines in their spectra towards longer wavelengths (redder light). The spectral shift (called *redshift*) is defined as $z = (\\lambda - \\lambda_{\\rm lab})/\\lambda_{\\rm lab}$, where $\\lambda_{\\rm lab}$ is the wavelength of a line that we would measure in the lab here on Earth and $\\lambda$ is the wavelength at which the line is observed in the spectrum of a galaxy or quasar.\n",
    "\n",
    "Models of the expansion based on Einstein's theory of general relativity predict how the distance to a galaxy $d_L$ depends on redshift $z$. The distance $d_L$ also depends on the Hubble \"constant\" $H_0$ that characterizes the rate of expansion currently and on the contents of the Universe - the mean density of matter and energy that are expressed in the dimensionless quantities $\\Omega_{\\rm m0}$ and $\\Omega_\\Lambda$ defined relative to a reference density. \n",
    "\n",
    "In this homework you will implement and test a function that estimates an integral of input function $f(x)$ for the interval $[a,b]$ with the accuracy that is controlled by the input thresholds $\\rm atol$ and $\\rm rtol$ for absolute and relative accuracy of the estimate (exercise 1). You can do this by modifying a provided function implementing Romberg integration calculation using recursive function calls. In the process you should learn how the accuracy control works in such algorithms and understand what $\\rm atol$ and $\\rm rtol$ arguments of many package functions do. \n",
    "\n",
    "If you would like more challenge, try implementing Romberg integration on your own without using recursive calls. \n",
    "\n",
    "You will then test your function by using it to compute distance $d_L$ and compare result to the output of AstroPy's function computing $d_L$ in the exercise 2. \n",
    "\n",
    "In the exercise 3, you will use the $d_L$ function to produce figure similar to the figure \n",
    "from the paper by <a href=\"https://ui.adsabs.harvard.edu/abs/2012ApJ...746...85S/abstract\">Suzuki et al. 2012</a> below, which uses many observational samples of <a href=\"https://en.wikipedia.org/wiki/Type_Ia_supernova\">type Ia supernovae</a>. You will examine how the theoretical line in this figure depends on the absolute magnitude (intrinsic brightness) of these supernovae and on the parameters $\\Omega_{\\rm m0}$ and $\\Omega_\\Lambda$. \n",
    "\n",
    "If you are not familiar with these concepts, it will be useful if you review [Section 8.1](https://astro.uchicago.edu/~andrey/classes/a211w24/html/appendix/astro.html) of the notes. Please do not hesitate to ask for clarification, if something is not clear. \n",
    "\n",
    "\n",
    "<br>\n",
    "<center><img width=500 src=\"https://astro.uchicago.edu/~andrey/classes/a211/img/suzuki_etal12_hubble_diagram.png\"></img></center>"
   ]
  },
  {
   "cell_type": "markdown",
   "id": "249e3b32",
   "metadata": {},
   "source": [
    "Import NumPy and Matplotlib, change Matplotlib defaults to produce nicer plots. "
   ]
  },
  {
   "cell_type": "code",
   "execution_count": 26,
   "id": "51d3ef2b",
   "metadata": {
    "id": "sWslcJJXumxC"
   },
   "outputs": [],
   "source": [
    "import numpy as np \n",
    "\n",
    "# use jupyter \"magic\" command to tell it to embed plot into the notebook \n",
    "import matplotlib.pyplot as plt\n",
    "%matplotlib inline\n",
    "import scipy.stats\n",
    "# the following code make plots look better\n",
    "def plot_prettier(dpi=150, fontsize=11, usetex=False): \n",
    "    '''\n",
    "    Make plots look nicer compared to Matplotlib defaults\n",
    "    Parameters: \n",
    "        dpi - int, \"dots per inch\" - controls resolution of PNG images that are produced\n",
    "                by Matplotlib\n",
    "        fontsize - int, font size to use overall\n",
    "        usetex - bool, whether to use LaTeX to render fonds of axes labels \n",
    "                use False if you don't have LaTeX installed on your system\n",
    "    '''\n",
    "    plt.rcParams['figure.dpi']= dpi\n",
    "    plt.rc(\"savefig\", dpi=dpi)\n",
    "    plt.rc('font', size=fontsize)\n",
    "    plt.rc('xtick', direction='in') \n",
    "    plt.rc('ytick', direction='in')\n",
    "    plt.rc('xtick.major', pad=5) \n",
    "    plt.rc('xtick.minor', pad=5)\n",
    "    plt.rc('ytick.major', pad=5) \n",
    "    plt.rc('ytick.minor', pad=5)\n",
    "    plt.rc('lines', dotted_pattern = [2., 2.])\n",
    "    if usetex:\n",
    "        plt.rc('text', usetex=usetex)\n",
    "    else:\n",
    "        plt.rcParams['mathtext.fontset'] = 'cm'\n",
    "        plt.rcParams['font.family'] = 'serif'\n",
    "        plt.rcParams['font.serif'] = ['Times New Roman'] + plt.rcParams['font.serif']\n",
    "\n",
    "plot_prettier()"
   ]
  },
  {
   "cell_type": "markdown",
   "id": "3207eb5e",
   "metadata": {
    "id": "hMAcyk51umxQ"
   },
   "source": [
    "## <font color='blue'>Exercise 1 (12 points): implementing numerical integration with error control</font>\n",
    "\n",
    "#### Background\n",
    "\n",
    "The Romberg integration approach starts with the trapezoidal estimate of the integral $\\int_a^b f(x)dx$ done with step size $h$, $R_0(h)$, and step size $h/2$, $R_0(h/2)$ to construct the 4th order accurate estimate of the integral:\n",
    "$$R_1(h) = \\frac{4R_0(h/2) - R_0(h)}{3}.$$\n",
    "Likewise, we can use the $R_1$ estimate for step sizes $h/2$ and $h$ and evaluate the integral using their combination: \n",
    "$$R_2(h) = \\frac{16R_1(h/2) - R_1(h)}{15}.$$\n",
    "This can continue and we can get the $2(m+1)$ order accurate estimate of the integral with the recursion relation: \n",
    "$$\n",
    "R_{m}(h)=\\frac{4^{m} R_{m-1}(h/2)-R_{m-1}(h)}{4^{m}-1},\n",
    "$$\n",
    "\n",
    "For any $R_m$ with $m>0$, we can estimate the error of the integral estimate as the absolute value of the difference between the current most accurate estimate $R_m(h)$ and the next accurate estimate we have $R_{m-1}(h/2)$: $\\vert R_{m}(h)-R_{m-1}(h)\\vert$.\n",
    "\n",
    "We can use this fact to implement error control for the integration. Starting at $m=1$ and iterating using a for loop until some $m_{max}$ (which can be a keyword argument with a default value of say 10), $R_m(h)$ and the error $\\vert R_{m}(h)-R_{m-1}(h)\\vert$ (where $\\vert\\ldots\\vert$ is absolute value) can be estimated and the iterations can be stopped when \n",
    "\n",
    "$$\\vert R_{m}(h)-R_{m-1}(h/2)\\vert<{\\rm atol + rtol}\\,\\vert R_m(h)\\vert,$$\n",
    "\n",
    "where ${\\rm atol}$ and ${\\rm rtol}$ are the absolute and relative (fractional) error tolerances that we want from the result.\n",
    "These arguments can be input keyword arguments to the integration function. \n",
    "\n",
    "When ${\\rm atol>rtol}\\,\\vert R_m(h)\\vert$ the iteration will be stopped when the absolute error threshold is satisfied. When ${\\rm atol<rtol}\\,\\vert R_m(h)\\vert$, the iteration will be stopped when the relative error threshold is satisfied. \n",
    "\n",
    "***Note:*** SciPy's romberg function uses a more conservative estimate of error: \n",
    "\n",
    "$$\\vert R_{m}(h)-R_{m-1}(h)\\vert<{\\rm atol + rtol}\\,\\vert R_m(h)\\vert.$$\n",
    "\n",
    "It is more conservative because error of $R_{m-1}(h)$ is larger than error of $R_{m-1}(h/2)$ so it may take 1 or 2 additional increases of $m$ before this is satisfied and will lead to more accurate $R_m(h)$ estimate. If you want to match behavior of the SciPy's function, then this is the stopping criterion that should be used.  \n"
   ]
  },
  {
   "cell_type": "markdown",
   "id": "8354265f",
   "metadata": {},
   "source": [
    "### Tasks\n",
    "\n",
    "**Task 1a. (10 points + 3 extra-credit)** Implement a function <tt>integrate</tt> that can numerically estimate integral for an input function over an interval $[a,b]$. The estimate should use the approach outlined above to ensure that the estimate returned by the function has an estimated uncertainty smaller than the specified ``thresholds'' (tolerance) ${\\rm atol}$ and ${\\rm rtol}$. \n",
    "A possible format of the function is outlined below. \n",
    "\n",
    "***Note:*** You can use function <tt>trapzd_h</tt> below in your calculation and <tt>romberg_recursive</tt> included in the notebook <tt>03_deriv_int_class</tt> used in class as an example. Note, however, that it cannot be used as given. It needs to be modified for the purposes of this exercise to implement error control.  \n",
    "\n",
    "***Note: (3 extra-credit)*** If you would like a more challenging version of this exercise, implement Romberg integration without recursive calls (which are slow) by computing a lower triangle of a table $R_{i}(h/2^k)$, where $i\\in [0,m]$ and $k\\in[0,m]$ to compute $R_m$. If you are interested to pursue this option, please contact instructor for more details and guidance.  \n",
    "    \n",
    "**Task 1b. (2 points)** Test your function by computing $$\\int_0^1 e^x dx$$ by computing the fractional error of the numerical relative to exact value ($=e-1$) and show that the fractional error of the estimate is smaller than the specified threshold $\\rm rtol$ for several values of the threshold (e.g., 1e-3, 1e-8, 1e-12). Make $\\rm atol=10^{-16}$ for this exercise. \n",
    "\n",
    "Repeat the test by setting $\\rm rtol=10^{-16}$ and computing the integral and absolute error for  $\\rm atol=10^{-3}, 10^{-5}, 10^{-7}$. Make sure that results you are getting in these tests has error smaller than the specified tolerances. \n",
    "\n",
    "You can compare results to SciPy's function <a href=\"https://docs.scipy.org/doc/scipy/reference/generated/scipy.integrate.romberg.html\"><tt>scipy.integrate.romberg</tt></a> for the same values of the tolerance thresholds, as shown in the example below. \n",
    "\n",
    "\n",
    "    \n",
    "    \n",
    "    def integrate(func, a, b, *args, atol=1e-10, rtol=1e-6):\n",
    "        '''\n",
    "        function computing numerical estimate of the integral of function func over the interval [a,b] \n",
    "        the integral estimate is guaranteed to be in the range [2e-16, rtol] or [2e-16, atol\n",
    "\n",
    "        Parameters:\n",
    "            func: Python function object\n",
    "                  function to integrate, must be able to handle numpy arrays as input\n",
    "                  and should have inputs as func(x, *args)\n",
    "            a, b: floats\n",
    "                  limits of the integral\n",
    "            atol: float - absolute error tolerance threshold\n",
    "            rtol: float - the fractional error tolerance threshold\n",
    "\n",
    "            args: pointer to a tuple of parameters to be passed for func, if any \n",
    "\n",
    "        Returns:\n",
    "            float: value of the estimated int^b_a f(x)dx\n",
    "            float: estimate of the absolute error\n",
    "        '''"
   ]
  },
  {
   "cell_type": "code",
   "execution_count": 27,
   "id": "6c7fa569",
   "metadata": {},
   "outputs": [],
   "source": [
    "def trapzd_h(func, a, b, h, *args):\n",
    "    \"\"\"\n",
    "    function implementing trapezoidal integration scheme using\n",
    "    numpy vector operations\n",
    "    \n",
    "    Parameters:\n",
    "        func: python function object\n",
    "            function to integrate, must take numpy arrays as input\n",
    "        a, b: floats\n",
    "            limits of the integral\n",
    "        h: float, step size to use, [a,b] must be evenly divisible by h  \n",
    "        args: parameters to be passed for func, if any \n",
    "    \n",
    "    Returns:\n",
    "        float: trapezoidal scheme estimate of int^b_a f(x)dx\n",
    "    \"\"\"\n",
    "    assert(h > 0); assert(a < b)\n",
    "    ntrap = (b-a) / h\n",
    "    # assert that [a,b] is divided by h into integer number of intervals\n",
    "    if ntrap - int(ntrap) != 0.:\n",
    "        raise ValueError(f'interval [{a:.3e}, {b:.3e}] must be exactly divisible by h = {h:.3e}')\n",
    "    # if h = b - a\n",
    "    if abs(h - (b-a)) + 1. == 1.:\n",
    "        return 0.5*(func(a, *args) + func(b, *args)) * (b-a)\n",
    "    else: \n",
    "        hstep = (b - a) / ntrap\n",
    "        # np.arange creates an array of values from 0 to nstep-1\n",
    "        xd = a + np.arange(1,ntrap) * hstep \n",
    "        return (0.5*(func(a, *args) + func(b, *args)) + np.sum(func(xd, *args))) * hstep\n"
   ]
  },
  {
   "cell_type": "code",
   "execution_count": 28,
   "id": "5dbcad2e",
   "metadata": {
    "slideshow": {
     "slide_type": "slide"
    }
   },
   "outputs": [],
   "source": [
    "def romberg_recursive(func, a, b, h, *args, m=0):\n",
    "    \"\"\"\n",
    "    Recursive implementation of Romberg integration of \n",
    "    the integral int_a^b f(x)dx with initial stepsize h\n",
    "    up to the Romberg iteration m\n",
    "    \n",
    "    Parameters:\n",
    "        func: Python function name\n",
    "        a, b: floats, integration limits, b>a\n",
    "        h: float, step size, must divide [a, b] evenly\n",
    "        args: tuple, parameters to be passed to func, if needed\n",
    "            (can be empty)\n",
    "        m: iteration number for which to compute R_m\n",
    "    Returns:\n",
    "        float: estimated value of the integral\n",
    "    \"\"\"\n",
    "    if m == 0: \n",
    "        return trapzd_h(func, a, b, h, *args)\n",
    "    else:\n",
    "        fact = 4**m \n",
    "        # R_m-1(h/2)\n",
    "        r_mm1_hhalf = romberg_recursive(func, a, b, h/2, *args, m=m-1)\n",
    "        # R_m-1(h)\n",
    "        r_mm1_h = romberg_recursive(func, a, b, h, *args, m=m-1)\n",
    "        # compute R_m(h) using recursion relation \n",
    "        rm_h = (fact*r_mm1_hhalf - r_mm1_h) / (fact - 1)\n",
    "        return rm_h\n",
    "    \n",
    "#define a new romberg function that makes use of our romberg recursive function\n",
    "#and implements an error tolerance scheme\n",
    "def romberg_error(func, a, b, h, atol, rtol, *args):\n",
    "    m = 1 #start at m=1 so we have at least one iteration to compare\n",
    "    for m in range(1, 100): #this is way more iterations then will basically ever be needed\n",
    "        rm_h = romberg_recursive(func, a, b, h, *args, m=m)\n",
    "        rm_h2 = romberg_recursive(func, a, b, h, *args, m=m-1)\n",
    "        err = rm_h2 - rm_h\n",
    "        if np.abs(err) < atol + rtol*np.abs(rm_h): #this is our error condition. \n",
    "            return rm_h, err\n",
    "        else: \n",
    "            m+=1\n",
    "    return rm_h, err\n",
    "\n",
    "    \n",
    "    "
   ]
  },
  {
   "cell_type": "markdown",
   "id": "1ae25e48",
   "metadata": {},
   "source": [
    "#### <font color='darkblue'>Example of using scipy.integrate.romberg\n"
   ]
  },
  {
   "cell_type": "code",
   "execution_count": 14,
   "id": "4ef433a7",
   "metadata": {},
   "outputs": [
    {
     "name": "stdout",
     "output_type": "stream",
     "text": [
      "1.7182826879247577\n",
      "fractional error: 5.001890250856493e-07\n",
      "1.7182818284590782\n",
      "fractional error: 1.9254493404903183e-14\n",
      "1.7182818284590449\n",
      "fractional error: 1.2922478795237035e-16\n",
      "\n",
      "---------------------------------------------------------------------------\n",
      "\n",
      "1.7182826879247577\n",
      "Absolute error: 0.0005784639518351398\n",
      "1.7182818287945305\n",
      "Absolute error: 8.591302271820922e-07\n",
      "1.7182818284590782\n",
      "Absolute error: 3.3545233257825657e-10\n"
     ]
    }
   ],
   "source": [
    "a = 0\n",
    "b = 1\n",
    "e = 2.71828182845904523536028747\n",
    "\n",
    "def func(x, *args):\n",
    "    return e**x\n",
    "\n",
    "atol = 10**(-16)\n",
    "\n",
    "#first tests for varying rtol: \n",
    "rm_h, error = romberg_error(func, a, b, 1, atol, .001)\n",
    "print(rm_h)\n",
    "print(f'fractional error: {np.abs((e-1-rm_h)/(e-1))}')\n",
    "\n",
    "rm_h1, error = romberg_error(func, a, b, 1, atol, 10e-8)\n",
    "print(rm_h1)\n",
    "print(f'fractional error: {np.abs((e-1-rm_h1)/(e-1))}')\n",
    "\n",
    "rm_h2, error = romberg_error(func, a, b, 1, atol, 10e-12)\n",
    "print(rm_h2)\n",
    "print(f'fractional error: {np.abs((e-1-rm_h2)/(e-1))}')\n",
    "\n",
    "\n",
    "\n",
    "\n",
    "print('\\n'+'-------------------------'*3 + '\\n')\n",
    "\n",
    "#now tests for varying atol\n",
    "rtol = 10e-16\n",
    "\n",
    "rm_h, error = romberg_error(func, a, b, 1, 1e-3, rtol)\n",
    "print(rm_h)\n",
    "print(f'Absolute error: {np.abs(error)}')\n",
    "\n",
    "rm_h1, error = romberg_error(func, a, b, 1, 1e-5, rtol)\n",
    "print(rm_h1)\n",
    "print(f'Absolute error: {np.abs(error)}')\n",
    "\n",
    "rm_h2, error = romberg_error(func, a, b, 1, 1e-7, rtol)\n",
    "print(rm_h2)\n",
    "print(f'Absolute error: {np.abs(error)}')\n",
    "\n",
    "#all of the values are less that their threshold values\n",
    "#so the function seems to be working properly! "
   ]
  },
  {
   "cell_type": "code",
   "execution_count": 15,
   "id": "4074722d",
   "metadata": {},
   "outputs": [
    {
     "name": "stdout",
     "output_type": "stream",
     "text": [
      "for tol = 1.00e-02, abs_error = 8.59466e-07,  frac_error = 5.00189e-07\n",
      "for tol = 1.00e-04, abs_error = 3.35485e-10,  frac_error = 1.95245e-10\n",
      "for tol = 1.00e-06, abs_error = 3.35485e-10,  frac_error = 1.95245e-10\n",
      "for tol = 1.00e-08, abs_error = 3.30846e-14,  frac_error = 1.93179e-14\n",
      "for tol = 1.00e-10, abs_error = 2.22045e-16,  frac_error = 2.22045e-16\n"
     ]
    }
   ],
   "source": [
    "from scipy.integrate import romberg\n",
    "\n",
    "a, b = 0, 1\n",
    "func = np.exp\n",
    "exact = (np.exp(b)-np.exp(a))\n",
    "for rtol in [1.e-2, 1e-4, 1e-6, 1e-8, 1e-10]:\n",
    "    # tol is the absolute error threshold\n",
    "    # rtol is the relative error threshold\n",
    "    ei  = romberg(func, a, b, tol=1e-16, rtol=rtol) \n",
    "    fracerr = ei/exact - 1.0\n",
    "    abserr = abs(ei - exact)\n",
    "    print(f'for tol = {rtol:.2e}, abs_error = {abserr:.5e},  frac_error = {fracerr:.5e}')"
   ]
  },
  {
   "cell_type": "markdown",
   "id": "73446bcd",
   "metadata": {},
   "source": [
    "## <font color='blue'>Exercise 2 (4 points + 2 extra credit): implementing and testing a function to compute luminosity distance $d_L$</font>"
   ]
  },
  {
   "cell_type": "markdown",
   "id": "26bca9f4",
   "metadata": {
    "id": "KpirwajAumxR"
   },
   "source": [
    "\n",
    "**2a (2 points).** Use the function you implemented in exercise 1 as a function integrate in the function <tt>d_l</tt> below in this line: \n",
    "\n",
    "            dc = integrate(dl_func, 0, z, *args, atol=atol, rtol=rtol)[0]\n",
    "\n",
    "This function computes the cosmological distance $d_L$ for a redshift $z$. Expressions for $d_L$ for different values of $\\Omega_{\\rm m0}$ and $\\Omega_\\Lambda$ can be found in the [Section 8.1.4](https://astro.uchicago.edu/~andrey/classes/a211w24/html/appendix/astro.html#d-l-for-general-models-with-omega-lambda-ne-0) of the notes.  \n",
    "\n",
    "***Note:*** The line of code above assumes that the function integrates returns two floats: integral value and an estimate of its absolute error and extracts only the value of the integral with [0] at the end. \n",
    "\n",
    "***Note:*** If you did not manage to get the integration function working in exercise 1, you can use SciPy's function <a href=\"https://docs.scipy.org/doc/scipy/reference/generated/scipy.integrate.romberg.html\"><tt>scipy.integrate.romberg</tt></a>, as shown above, here to compute $d_L$. \n"
   ]
  },
  {
   "cell_type": "markdown",
   "id": "8732608a",
   "metadata": {},
   "source": [
    "**2b (2 point).** Test your function by running it and comparing its output to the estimates using AstroPy function for several pairs of $\\Omega_{\\rm m0}$ and $\\Omega_\\Lambda$: $[0.3, 0.7]$, $[0.1,0.9]$, $[0.8,0.1]$, as shown below (keep $H_0=70$). Try this comparison for $z=1$ and for $z=15$. For all cases, compute and print out $d_L$ using <tt>d_l</tt> function with your function <tt>integrate</tt> and the <tt>d_l_astropy</tt> that uses astropy function below. Make sure that the results are accurate within atol and rtol values that you specify. \n",
    "\n",
    "***Note:*** If you do not have AstroPy installed, you can install it. If you use Anaconda Python distribution do\n",
    "\n",
    "    conda install astropy\n",
    "   \n",
    "in the Conda shell. Otherwise, do \n",
    "\n",
    "    pip install astropy\n",
    "\n",
    "**2c (extra-credit, 2 points)**. If you look at the AstroPy documentation you will not find information about the accuracy with which the AstroPy function computes $d_L$. Try to determine the accuracy experimentally using <tt>d_l</tt> function. For $\\Omega_{\\rm m0}=0.3$ and $\\Omega_\\Lambda=0.7$ and $H_0$ compute $d_L$ using functions <tt>d_l</tt> and <tt>d_l_astropy</tt> for different input values of <tt>rtol</tt> argument to the former of 1e-6, 1e-10, 1e-13, 1e-15. Print out the values of $d_L$ computed by both functions and the fractional difference between the estimates. Examine the result and present an argument of the fractional error with which the AstroPy function computes $d_L$.  \n"
   ]
  },
  {
   "cell_type": "code",
   "execution_count": 16,
   "id": "4454e724",
   "metadata": {
    "id": "7mZCoupWcStz"
   },
   "outputs": [],
   "source": [
    "def d_L_no_de(z, H0, Om0, clight = 2.99792458e5):\n",
    "    '''\n",
    "    function estimating d_L in Mpc, works only for models with OmL = 0\n",
    "    \n",
    "    Parameters:\n",
    "    -----------\n",
    "        z - float(s), a float or a numpy vector of floats containing redshift(s) for which to compute d_L\n",
    "        H0 - Hubble constant in km/s/Mpc\n",
    "        Om0 - dimensionless mean matter density in units of the critical density\n",
    "        \n",
    "    Returns:\n",
    "    --------\n",
    "        d_L - float(s), float or numpy vector of floats containing d_L in Mpc for inpute value(s) of z\n",
    "\n",
    "    '''\n",
    "    assert(Om0 >=0)\n",
    "    q0 = 0.5 * Om0\n",
    "    q0z = q0 * z\n",
    "    return clight * z/H0 * (1. + (z-q0z) / (1. + q0z + np.sqrt(1. + 2.*q0z)))  "
   ]
  },
  {
   "cell_type": "markdown",
   "id": "23e5e0fe",
   "metadata": {},
   "source": [
    "The function below implements this equation for calculation of $d_L$ for arbitrary values of $\\Omega_{\\rm m0}$ and $\\Omega_\\Lambda$ (see [Sections 8.1.2-8.1.4](https://astro.uchicago.edu/~andrey/classes/a211w24/html/appendix/astro.html) in the notes):\n",
    "\n",
    "$$\n",
    "d_L(z, H_0,\\Omega_{\\rm m0},\\Omega_\\Lambda) = \\frac{c}{H_0}\\,(1+z)\\,\\left\\{\n",
    "\\begin{array}{ll}\n",
    "\\frac{1}{\\sqrt{\\Omega_k}}\\,\\sinh\\left[\\sqrt{\\Omega_k}\\,d_{\\rm c}\\right] & {\\rm for}~\\Omega_k>0 \\\\\n",
    "d_{\\rm c} & {\\rm for}~\\Omega_k=0 \\\\\n",
    "\\frac{1}{\\sqrt{|\\Omega_k|}}\\,\\sin\\left[\\sqrt{|\\Omega_k|}\\,d_{\\rm c}\\right] & {\\rm for}~\\Omega_k<0\n",
    "\\end{array}\n",
    "\\right.\n",
    "$$\n",
    "where $\\Omega_k = 1-\\Omega_{\\rm m0} - \\Omega_\\Lambda$, $c=2.99792458\\times 10^5$ km/s is speed of light in km/s, $H_0$ is the Hubble constant in km/s/Mpc (current observations indicate that $H_0$ is close to $70$ km/s although values between 65 and 74 are possible.\n",
    "\n",
    "Numerical estimate of the integral is needed to compute $d_c$:\n",
    "\n",
    "$$d_c =\\int\\limits_0^z \\frac{dx}{E(x)},$$\n",
    "where $E(x)=\\sqrt{\\Omega_{\\rm m0}(1+x)^3+\\Omega_k(1+x)^2+\\Omega_\\Lambda}.$\n",
    "\n",
    "\n",
    "\n"
   ]
  },
  {
   "cell_type": "code",
   "execution_count": 17,
   "id": "0166ecb9",
   "metadata": {
    "id": "I2453FUbcStz"
   },
   "outputs": [],
   "source": [
    "def dl_func(z, H0, Om0, OmL, Omk):\n",
    "    z1 = 1.0 + z; z12 = z1 * z1\n",
    "    return 1.0 / np.sqrt(z12*(Om0*z1 + Omk) + OmL)"
   ]
  },
  {
   "cell_type": "code",
   "execution_count": 18,
   "id": "066d5fe4",
   "metadata": {
    "id": "ZqGGYTP4cStz"
   },
   "outputs": [],
   "source": [
    "clight = 2.99792458e5 # speed of light in km/s\n",
    "\n",
    "def d_l(z, H0, Om0, OmL, atol=1e-16, rtol=1e-8):\n",
    "    \"\"\"\n",
    "    function computing luminosity distance from z=0 to z \n",
    "    using helper routine for comoving distance _dc\n",
    "    \n",
    "    Parameters:\n",
    "    -----------\n",
    "    z: float - redshift to which to compute d_L\n",
    "    H0: float - Hubble constant in units of km/s/Mpc\n",
    "    Om0: float - dimensionless mean matter density in the universe, >= 0\n",
    "    OmL: float - dimensionless mean vacuum energy density in the universe\n",
    "     \n",
    "    Returns:\n",
    "    --------\n",
    "    float - value of d_L(z, H0, Om0, OmL) \n",
    "            estimated using function integrate with input atol and rtol tolerances\n",
    "    \"\"\"\n",
    "    # if OmL == 0\n",
    "    if 1.0+OmL == 1.0: \n",
    "        return d_L_no_de(z, H0, Om0) # if OmL=0, use simple formula without integration\n",
    "    else: # otherwise use numerical integration to compute distance \n",
    "        dH = clight / H0 \n",
    "        Omk = 1.0 - Om0 - OmL\n",
    "        args = [H0, Om0, OmL, Omk]\n",
    "        dc = romberg_error(dl_func, 0, z, z, atol, rtol, *args)[0] #this is where my own function is implimented\n",
    "        if 1.0 + Omk == 1.0:\n",
    "            return dH * dc * (1.0 + z)\n",
    "        else:\n",
    "            sqrOmk = np.sqrt(np.abs(Omk))\n",
    "            if Omk > 0.:\n",
    "                return dH * np.sinh(dc*sqrOmk) * (1.0 + z) / sqrOmk \n",
    "            else:\n",
    "                return dH * np.sin(dc*sqrOmk) * (1.0 + z) / sqrOmk\n",
    "            \n"
   ]
  },
  {
   "cell_type": "code",
   "execution_count": 19,
   "id": "7731381f",
   "metadata": {
    "id": "Qy73dZrFumxI"
   },
   "outputs": [
    {
     "data": {
      "text/latex": [
       "$163925.97 \\; \\mathrm{}$"
      ],
      "text/plain": [
       "<Quantity 163925.9702785>"
      ]
     },
     "execution_count": 19,
     "metadata": {},
     "output_type": "execute_result"
    }
   ],
   "source": [
    "# d_L function from Astropy for testing\n",
    "from astropy.cosmology import LambdaCDM\n",
    "import astropy.units as u\n",
    "\n",
    "def d_l_astropy(z, H0, om0, oml):\n",
    "    cosmo = LambdaCDM(H0=H0, Om0=om0, Ode0=oml)\n",
    "    return cosmo.luminosity_distance(z=z) / u.Mpc\n",
    "\n",
    "d_l_astropy(15, 70, .3, .7)"
   ]
  },
  {
   "cell_type": "code",
   "execution_count": 20,
   "id": "57a99e66",
   "metadata": {},
   "outputs": [
    {
     "name": "stdout",
     "output_type": "stream",
     "text": [
      "6607.657611776505\n",
      "6607.657611774941 \n",
      "\n",
      "7655.298064084347\n",
      "7655.298063879043 \n",
      "\n",
      "5273.053436294804\n",
      "5273.053436326777 \n",
      "\n",
      "163925.97026188517\n",
      "163925.97027849953 \n",
      "\n",
      "241742.56773326997\n",
      "241742.56773274567 \n",
      "\n",
      "115694.07013679881\n",
      "115694.07013692564 \n",
      "\n",
      "--------------------------------------------------\n",
      "\n",
      "163925.97026188517\n",
      "163925.97027849953 \n",
      "\n",
      "163925.97027851455\n",
      "163925.97027849953 \n",
      "\n",
      "163925.97027851455\n",
      "163925.97027849953 \n",
      "\n",
      "163925.97027849947\n",
      "163925.97027849953 \n",
      "\n",
      "163925.97027849947\n",
      "163925.97027849953 \n",
      "\n",
      "163925.97027849947\n",
      "163925.97027849953 \n",
      "\n",
      "163925.97027849947\n",
      "163925.97027849953 \n",
      "\n",
      "relative error = -3.5508504732091203e-16\n",
      "thus our error tolerance must be less strict than 3e-16\n",
      "so a good estimate would be rtol = 1e-15\n"
     ]
    }
   ],
   "source": [
    "#[0.3,0.7] , [0.1,0.9], [0.8,0.1]\n",
    "\n",
    "print(d_l(1, 70, .3, .7))\n",
    "print(d_l_astropy(1, 70, .3, .7), '\\n')\n",
    "\n",
    "print(d_l(1, 70, .1, .9))\n",
    "print(d_l_astropy(1, 70, .1, .9), '\\n')\n",
    "\n",
    "print(d_l(1, 70, .8, .1))\n",
    "print(d_l_astropy(1, 70, .8, .1), '\\n')\n",
    "\n",
    "print(d_l(15, 70, .3, .7))\n",
    "print(d_l_astropy(15, 70, .3, .7), '\\n')\n",
    "\n",
    "print(d_l(15, 70, .1, .9))\n",
    "print(d_l_astropy(15, 70, .1, .9), '\\n')\n",
    "\n",
    "print(d_l(15, 70, .8, .1))\n",
    "print(d_l_astropy(15, 70, .8, .1), '\\n')\n",
    "\n",
    "#the different tests all seem to match up correctly. \n",
    "\n",
    "print( 50*'-'+'\\n')\n",
    "#Extra credit: testing a bunch of different rtol values to see where d_l steadies out\n",
    "#this will be our exact value of the distance. \n",
    "#we can then measure that versus the result that the built in function creates \n",
    "#and say that that relative error is the smallest possible rtol for d_l_astropy\n",
    "\n",
    "print(d_l(15, 70, .3, .7, atol = 1e-16, rtol = 5e-9))\n",
    "print(d_l_astropy(15, 70, .3, .7), '\\n')\n",
    "\n",
    "print(d_l(15, 70, .3, .7, atol = 1e-16, rtol = 5e-10))\n",
    "print(d_l_astropy(15, 70, .3, .7), '\\n')\n",
    "\n",
    "print(d_l(15, 70, .3, .7, atol = 1e-16, rtol = 5e-10))\n",
    "print(d_l_astropy(15, 70, .3, .7), '\\n')\n",
    "\n",
    "print(d_l(15, 70, .3, .7, atol = 1e-16, rtol = 5e-12))\n",
    "print(d_l_astropy(15, 70, .3, .7), '\\n')\n",
    "\n",
    "print(d_l(15, 70, .3, .7, atol = 1e-16, rtol = 5e-13))\n",
    "print(d_l_astropy(15, 70, .3, .7), '\\n')\n",
    "\n",
    "print(d_l(15, 70, .3, .7, atol = 1e-16, rtol = 5e-14))\n",
    "print(d_l_astropy(15, 70, .3, .7), '\\n')\n",
    "\n",
    "print(d_l(15, 70, .3, .7, atol = 1e-16, rtol = 5e-15))\n",
    "print(d_l_astropy(15, 70, .3, .7), '\\n')\n",
    "\n",
    "#the value of d_l steadies out at 163925.97027849947\n",
    "#so we can assume this is very close to the exact value \n",
    "#thus if we measure the relative error between that and the astropy value\n",
    "#we can determine an estimate of the relate error tolerance \n",
    "\n",
    "error = (d_l(15, 70, .3, .7, atol = 1e-16, rtol = 5e-19) - d_l_astropy(15, 70, .3, .7))/d_l(15, 70, .3, .7, atol = 1e-16, rtol = 5e-19)\n",
    "\n",
    "print(f'relative error = {error}')\n",
    "print('thus our error tolerance must be less strict than 3e-16')\n",
    "print('so a good estimate would be rtol = 1e-15')"
   ]
  },
  {
   "cell_type": "markdown",
   "id": "8bb1a6f8",
   "metadata": {},
   "source": [
    "## <font color='blue'>Exercise 3 (9 points): using $d_L$ calculation to compute distance modulus of supernovae Type Ia</font>\n",
    "    \n",
    "The code snippet below reads data from the study of <a href=\"https://ui.adsabs.harvard.edu/abs/2014A%26A...568A..22B/abstract\">Betoule et al. (2014)</a>, which was downloaded <a href=\"http://supernovae.in2p3.fr/sdss_snls_jla/ReadMe.html\">here</a>. The function uses numpy loadtxt function, which allows to read well formatted columns of data in the ASCII format easily. \n",
    "    \n",
    "After reading numpy array <tt>zsn</tt> contains redshifts of 740 supernovae, while arrays <tt>msn</tt>, $m$, and <tt>emsn</tt> contain measured apparent magnitudes and their uncertainties\n",
    "    \n",
    "    \n",
    "Distance modulus is defined as \n",
    "    \n",
    "$$\\mu = m - M = 5\\log_{10}d_L(z,H_0,\\Omega_{\\rm m0},\\Omega_\\Lambda) + 25.$$\n",
    "\n",
    "where $d_L$ is distance in Megaparsecs and $M$ is the absolute magnitude of the supernovae (this is the magnitude supernova would have at a fixed distance of 10 parsecs). For this exercise we will assume that supernovae are perfect standard candles, which means that $M$ has a single value for all of them. This means that we should be able to predict what apparent magnitudes of supernovae should be at different redshifts: \n",
    "    \n",
    "$$m_{\\rm pred} = M + 5\\log_{10}d_L(z,H_0,\\Omega_{\\rm m0},\\Omega_\\Lambda) + 25.$$\n",
    "    \n",
    "**Task 3a (4 points).** plot supernovae data as a scatter of points in the $m-z$ plane and plot $m_{\\rm pred}(z)$ for a grid of $z$ values in the range $z\\in [0,2]$ as a line. Add a legend to your plot that describes points and the line. \n",
    "Make sure your plot is sufficiently large, axes are labeled and font size in the axis labels and legend is sufficiently large to be legible.\n",
    "        \n",
    "**Task 3b (4 points).** Try different values of $M$ in the range from 0 to -25, and values of $\\Omega_{\\rm m0}$ and $\\Omega_\\Lambda$ in the range $[0,1]$, while keeping $H_0=70$ and try to find a combination of $M$, $\\Omega_{\\rm m0}$ and $\\Omega_\\Lambda$ for which the line matches the supernova data best. Plot a plot of $m-z$ described above for this \"best-fit\" parameter combination and report the parameter values. \n",
    "    \n",
    "**Task 3c (1 point).** Summarize your conclusions and quote the best values of $M$, $\\Omega_{\\rm m0}$ and $\\Omega_\\Lambda$ that you found. \n",
    "    "
   ]
  },
  {
   "cell_type": "code",
   "execution_count": null,
   "id": "a0cbd415",
   "metadata": {},
   "outputs": [],
   "source": []
  },
  {
   "cell_type": "markdown",
   "id": "0e9c0496",
   "metadata": {},
   "source": [
    "***Note:*** Useful Matlotlib functions: <tt>plt.xlabel, plt.ylabel, plt.scatter, plt.plot, plt.legend\n",
    "    "
   ]
  },
  {
   "cell_type": "code",
   "execution_count": 21,
   "id": "f4751a86",
   "metadata": {
    "slideshow": {
     "slide_type": "skip"
    }
   },
   "outputs": [],
   "source": [
    "def read_jla_data(sn_list_name = None):\n",
    "    \"\"\"\n",
    "    read in table with the JLA supernova type Ia sample\n",
    "    \n",
    "    Parameters\n",
    "    ----------\n",
    "    sn_list_name: str\n",
    "        path/file name containing the JLA data table in ASCII format\n",
    "        \n",
    "    Returns\n",
    "    -------\n",
    "    zsn, msn, emsn - numpy float vectors containing \n",
    "                       zsn: SNIa redshifts in the CMB frame\n",
    "                       msn, emsn: apparent B-magnitude and its errors\n",
    "    \"\"\"\n",
    "    zsn, msn, emsn = np.loadtxt(sn_list_name, usecols=(1, 4, 5),  unpack=True)\n",
    "\n",
    "    return zsn, msn, emsn\n"
   ]
  },
  {
   "cell_type": "code",
   "execution_count": 23,
   "id": "6aeeb928",
   "metadata": {
    "scrolled": true,
    "slideshow": {
     "slide_type": "-"
    }
   },
   "outputs": [
    {
     "name": "stdout",
     "output_type": "stream",
     "text": [
      "read sample of 740 supernovae...\n"
     ]
    },
    {
     "data": {
      "text/plain": [
       "(0.0, 2.0)"
      ]
     },
     "execution_count": 23,
     "metadata": {},
     "output_type": "execute_result"
    },
    {
     "data": {
      "image/png": "[encoded data removed]",
      "text/plain": [
       "<Figure size 960x720 with 1 Axes>"
      ]
     },
     "metadata": {},
     "output_type": "display_data"
    }
   ],
   "source": [
    "# read vectors of redshifts, apparent magnitude in B-band, mB, and its uncertainty emB:\n",
    "zsn, msn, emsn = read_jla_data(sn_list_name = 'https://astro.uchicago.edu/~andrey/classes/a211/data/jla_lcparams.txt')\n",
    "nsn = np.size(zsn)\n",
    "print(\"read sample of %d supernovae...\"%(nsn))\n",
    "\n",
    "plt.scatter(zsn, msn)\n",
    "\n",
    "def graph_redshift(zsn, M, H0, Om0, Oml):\n",
    "    mpred = np.zeros(len(zsn))\n",
    "    for i in range(0, len(zsn)): \n",
    "        mpred[i] += M + 5*np.log10(d_l(zsn[i], H0, Om0, Oml)) + 25\n",
    "        mpred_sort = np.sort(mpred)\n",
    "        zsn_sort = np.sort(zsn)\n",
    "    plt.plot(zsn_sort, mpred_sort)\n",
    "    \n",
    "graph_redshift(zsn, -19, 70, .8, .2)\n",
    "graph_redshift(zsn, -19, 70, .7, .3)\n",
    "graph_redshift(zsn, -18.75, 70, .6, .4)\n",
    "graph_redshift(zsn, -19, 70, .5, .5)\n",
    "plt.xlabel('redshift')\n",
    "plt.ylabel('apparent magnitude')\n",
    "plt.xlim(0, 2)\n",
    "#the line that fit best seemed to be the one with M = -19, Om0 = .5 and Oml=.5\n",
    "#which in my plot is the red line\n",
    "#generally, there is a positive relationship between redshift and magnitude\n",
    "#which makes sense because a larger magnitude means a smaller brightness \n",
    "#and a larger redshift means a larger distance away and thus also a smaller brightness. "
   ]
  },
  {
   "cell_type": "markdown",
   "id": "8e52f328",
   "metadata": {},
   "source": [
    "### <font color='blue'>Exercise 4 (5 points): Using the inverse transform method</font>\n",
    "    \n",
    "to sample random numbers from the distribution $g(x)=A/\\sqrt{x}$ for $x\\in[1/a,a]$ where $a$ is a constant and $A$ is normalization constant.\n",
    "\n",
    "**Task 4a (1 point).** Derive expression for the normalization constant $A$. \n",
    "\n",
    "**Task 4b (1 point).** Derive the expression for the cdf $P(x)$ and its inverse $x = P^{-1}(y)$, where $y$ is value in the range $[0,1]$. \n",
    "\n",
    "**Task 4c (3 points).** Assuming $a=2$ write code to draw random numbers using inverse transform method using the inverse cdf you derive to draw $10^6$ random numbers that follow pdf $g(x)$. Test your results by histogramming results and comparing the histogram to the analytic expression for $g(x)$ shown as a line. \n",
    "\n",
    "***Note:*** examples of how to do the steps required in the ITS method can be found in [Section 7.4](https://astro.uchicago.edu/~andrey/classes/a211w25/html/mc/sample1.html) of the notes and in the [04_mc_methods](https://drive.google.com/file/d/1AsHf8nY03fE77cLrzZadRjvp0IgOIe5o/view?usp=sharing) notebook. In the latter notebook it is also shown how to compare histogram of the random numbers to the pdf from which they are supposed to be sampled using function `plot_pdf` that can be found in the [`codes/plotting.py` file](https://drive.google.com/file/d/189lPhb0tcVQKekzQ_X7nuYs-pkukPOum/view?usp=sharing)."
   ]
  },
  {
   "cell_type": "markdown",
   "id": "f9c2b565",
   "metadata": {},
   "source": [
    "Part 1: \n",
    "\n",
    "To be Normalized, we need $\\int\\limits_\\frac{1}{a}^a \\frac{a}{\\sqrt{x}}$ to integrate to 1, as that is the definition of a probability density function:\n",
    "\n",
    "$$\n",
    "1 = \\int\\limits_\\frac{1}{a}^a \\frac{a}{\\sqrt{x}}\\\\\n",
    "= 2A\\sqrt{x}_\\frac{1}{a}^a\\\\\n",
    "=  2A\\sqrt{a}-\\frac{2A}{\\sqrt{a}}\\\\\n",
    "= A*(2\\sqrt{a}-\\frac{2}{\\sqrt{a}})\\\\\n",
    "A = \\frac{1}{2\\sqrt{a}-\\frac{2}{\\sqrt{a}}}\n",
    "= \\frac{\\sqrt{a}}{2a-2}\n",
    "$$\n",
    "\n",
    "Part 2: \n",
    "\n",
    "We know that $\\frac{d}{dx}(cdf) = pdf$, thus the cdf is the integral of the pdf for the lower limit ($\\frac{1}{a}$) and whatever x value we are currently at: \n",
    "$$\n",
    "cdf = \\int\\limits_\\frac{1}{a}^x\\frac{a}{\\sqrt{x}}\\\\\n",
    "= 2A\\sqrt{x}_\\frac{1}{a}^x\\\\\n",
    "= 2A(\\sqrt{x}-\\frac{1}{\\sqrt{a}}) = y\n",
    "$$\n",
    "\n",
    "Thus our inverse cdf x(y) is: \n",
    "\n",
    "$$\n",
    "y = 2A(\\sqrt{x}-\\frac{1}{\\sqrt{a}})\\\\\n",
    "y + 2A\\frac{1}{\\sqrt{a}} = 2A\\sqrt{x}\\\\ \n",
    "(y + \\frac{2A}{\\sqrt{a}})^2 = 4A^2x\\\\\n",
    "x = \\frac{(y + \\frac{2A}{\\sqrt{a}})^2}{4A^2}\n",
    "$$\n",
    "\n",
    "now subbing in for y in terms of a, we get: \n",
    "\n",
    "$$\n",
    "x(y) = \\frac{(y + \\frac{2A}{\\sqrt{a}})^2}{4A^2}\n",
    "= \\frac{(y + \\frac{\\frac{2\\sqrt{a}}{2a-2}}{\\sqrt{a}})^2}{4(\\frac{\\sqrt{a}}{2a-2})^2}\n",
    "= \\frac{(y + \\frac{\\frac{\\sqrt{a}}{a-1}}{\\sqrt{a}})^2}{\\frac{a}{(a-1)^2}}\n",
    "$$\n",
    "\n",
    "finally, since we know that a = 2: \n",
    "\n",
    "$$\n",
    "x(y) = \\frac{(y + \\frac{\\frac{\\sqrt{a}}{a-1}}{\\sqrt{a}})^2}{\\frac{a}{(a-1)^2}}\n",
    "= \\frac{(y + \\frac{\\frac{\\sqrt{2}}{2-1}}{\\sqrt{2}})^2}{\\frac{2}{(2-1)^2}}\n",
    "= \\frac{(y + \\frac{\\frac{\\sqrt{2}}{1}}{\\sqrt{2}})^2}{2}\n",
    "= \\frac{(y+1)^2}{2}\n",
    "$$\n"
   ]
  },
  {
   "cell_type": "code",
   "execution_count": 24,
   "id": "4ee6d3a3",
   "metadata": {},
   "outputs": [
    {
     "data": {
      "text/plain": [
       "[<matplotlib.lines.Line2D at 0x161db6610>]"
      ]
     },
     "execution_count": 24,
     "metadata": {},
     "output_type": "execute_result"
    },
    {
     "data": {
      "image/png": "[encoded data removed]",
      "text/plain": [
       "<Figure size 960x720 with 1 Axes>"
      ]
     },
     "metadata": {},
     "output_type": "display_data"
    }
   ],
   "source": [
    "\n",
    "#Now that we have our inverse cdf, we just need to do part 3, the graphing\n",
    "y = np.random.uniform(0, 1, 1000000) #choose this range of y to follow pdf on desired range.\n",
    "\n",
    "x = 1/2 * (y+1)**2 \n",
    "\n",
    "plt.hist(x, bins = 'auto', density = 'True')\n",
    "\n",
    "x1 = np.arange(2000)+1 #add one so we are not dividing by 0 in the following steps. \n",
    "x1 = x1/1000\n",
    "pdf = (np.sqrt(2)/2)*1/(np.sqrt(x1))\n",
    "plt.plot(x1, pdf)\n",
    "\n",
    "#the pdf pretty much perfectly follows the inverse cdf histogram \n",
    "#for our domain (1/2, 2), so the method seems to be working!\n"
   ]
  },
  {
   "cell_type": "code",
   "execution_count": null,
   "id": "b1fb4558",
   "metadata": {},
   "outputs": [],
   "source": []
  }
 ],
 "metadata": {
  "colab": {
   "name": "hw04_solutions.ipynb",
   "provenance": []
  },
  "kernelspec": {
   "display_name": "Python 3 (ipykernel)",
   "language": "python",
   "name": "python3"
  },
  "language_info": {
   "codemirror_mode": {
    "name": "ipython",
    "version": 3
   },
   "file_extension": ".py",
   "mimetype": "text/x-python",
   "name": "python",
   "nbconvert_exporter": "python",
   "pygments_lexer": "ipython3",
   "version": "3.11.4"
  }
 },
 "nbformat": 4,
 "nbformat_minor": 5
}
